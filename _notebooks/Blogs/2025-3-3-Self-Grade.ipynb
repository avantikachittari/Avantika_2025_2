{
 "cells": [
  {
   "cell_type": "code",
   "execution_count": null,
   "metadata": {
    "vscode": {
     "languageId": "html"
    }
   },
   "outputs": [],
   "source": [
    "---\n",
    "comments: true\n",
    "layout: post\n",
    "title: Self Grade\n",
    "description: Blog for Adventure Game\n",
    "permalink: /Blogs/SelfGrade.ipynb/\n",
    "type: ccc\n",
    "author: Avantika Chittari\n",
    "---"
   ]
  },
  {
   "cell_type": "markdown",
   "metadata": {},
   "source": [
    "## Final Self-Grade Checklist\n",
    "\n",
    "| **Assignment**             | **Learning process**    |Grade | **Why** |\n",
    "|----------------------------|---------------|-----------|--------------|\n",
    "| Last 24 weeks overview       |              |     4.5      |              |\n",
    "| Latest game feature           |       <img width=\"1440\" alt=\"Image\" src=\"https://github.com/user-attachments/assets/60274a9c-fdb0-44e1-9e2b-cd244fd042c4\" />    <img width=\"1430\" alt=\"Image\" src=\"https://github.com/user-attachments/assets/eb9095e0-5586-4190-a300-7fba8203cdbb\" />   |    1.9       |              |\n",
    "| Organization              |       <img width=\"508\" alt=\"Image\" src=\"https://github.com/user-attachments/assets/840db3bc-1b25-425d-a5a0-be6043db5bd4\" />       |     1      |              |\n",
    "| N@TM feedback              |        <img width=\"905\" alt=\"Image\" src=\"https://github.com/user-attachments/assets/4cfd8f2d-d561-426c-a283-577a07e9b8a0\" />      |     0.8      |              |\n",
    "| Total            |        9.95      |           |              |\n"
   ]
  },
  {
   "cell_type": "markdown",
   "metadata": {},
   "source": [
    "| **Skill**                  | **Points**    | **Grade** | **Evidence** |\n",
    "|----------------------------|---------------|-----------|--------------|\n",
    "| Work Habits (Analytics)    | 1             | 0.9          |      <img width=\"1440\" alt=\"Image\" src=\"https://github.com/user-attachments/assets/b65bd500-bf2e-47e5-b935-3c602e933862\" />       |\n",
    "| Beyond Perfunctory Memory  | 1             |     0.9      |      I used the animation tech talk to help animate the NPCs and enemies, and it helped me add the Game in-game |\n",
    "| Total                      | 2             |           |              |"
   ]
  },
  {
   "cell_type": "markdown",
   "metadata": {},
   "source": [
    "# Personal review \n",
    "\n",
    "Throughout this course, I have demonstrated significant growth in my programming and game development skills. The transition from the **Turtle RPG** to the **Platformer4x** and finally to the **Adventure Game** shows how much I have learned in the past 24 weeks.\n",
    "\n",
    "## 1. Progression & Adaptability  \n",
    "- Moving from simple graphics in Turtle to designing interactive and engaging gameplay in Adventure Game required a shift in mindset and skills.  \n",
    "- The jump to **Platformer4x** involved more advanced mechanics such as physics, character movement, although I did not partake in many changes for the Platformer game I did learn a lot from it because that is how I was able to create all the files for my Adventure Game. I looked back at the game and reflected on what I could have the would have been of help and I inputted it all into my game\n",
    "\n",
    "## 2. Technical Skill Development  \n",
    "- I learned how to structure my code efficiently, such as uses classes to make the files more organized, also make \n",
    "- Making blogs that show my progress throught coding this game\n",
    "- Naming files to make VSCode less cluttered and how to make permalinks\n",
    "- I incorporated new elements like **triggerPlayerDeath** and **explodeCharacter**\n",
    "\n",
    "## 3. Effort & Dedication  \n",
    "- Last trimester my effort was constant through the entire class, although when I started trimester 2 I did not put as much effort at all during the PlatformerGame once we started the AdventureGame I tried my best to make the game as good as possible and documented everything I did \n",
    "- Adding new files and debugging the code took a lot of time and since I did not learn much from Platformer due to my nonparticipation it took way longer than it should have however I was persistant to finish it and make it nice so I spent a lot of time working on it.\n"
   ]
  }
 ],
 "metadata": {
  "language_info": {
   "name": "python"
  }
 },
 "nbformat": 4,
 "nbformat_minor": 2
}
