{
 "cells": [
  {
   "cell_type": "code",
   "execution_count": null,
   "metadata": {
    "vscode": {
     "languageId": "html"
    }
   },
   "outputs": [],
   "source": [
    "---\n",
    "comments: true\n",
    "layout: post\n",
    "title: Self Grade\n",
    "description: Blog for Adventure Game\n",
    "permalink: /Blogs/SelfGrade.ipynb/\n",
    "type: ccc\n",
    "author: Avantika Chittari\n",
    "---"
   ]
  },
  {
   "cell_type": "markdown",
   "metadata": {},
   "source": [
    "## Final Self-Grade Checklist\n",
    "\n",
    "| **Assignment**             | **Learning process**    |Grade | **Why** |\n",
    "|----------------------------|---------------|-----------|--------------|\n",
    "| Last 24 weeks overview       |              |     4.5      |              |\n",
    "| Latest game feature           |       <img width=\"1440\" alt=\"Image\" src=\"https://github.com/user-attachments/assets/60274a9c-fdb0-44e1-9e2b-cd244fd042c4\" />    <img width=\"1430\" alt=\"Image\" src=\"https://github.com/user-attachments/assets/eb9095e0-5586-4190-a300-7fba8203cdbb\" />   |    1.9       |              |\n",
    "| Organization              |       <img width=\"508\" alt=\"Image\" src=\"https://github.com/user-attachments/assets/840db3bc-1b25-425d-a5a0-be6043db5bd4\" />       |     1      |              |\n",
    "| N@TM feedback              |        <img width=\"905\" alt=\"Image\" src=\"https://github.com/user-attachments/assets/4cfd8f2d-d561-426c-a283-577a07e9b8a0\" />      |     0.8      |              |\n",
    "| Total            |              |           |              |\n",
    "\n",
    "## 10nth point Checklist\n",
    "| **Assignment**             | **Learning process**    |y/n | **Why** |\n",
    "|----------------------------|---------------|-----------|--------------|\n",
    "| Check List and honest self grade       |       This checklist is proof       |     Yes      |              |\n",
    "| Practice review with Ms. Pataki           |      On March 3rd we had a preliminary review with Ms. Pataki       |     Yes    |              |\n",
    "| Reviewing other classes and taking interest in them               |              |    Yes       |              |\n",
    "| All Blogs     |      Located in a section on my website        |     Yes      |              |\n",
    "| Thinking about CompSci in the future              |      In the current world we live in knowing basic computer science skills is needed for any types of profession so being able to learn and use these skill is necessary         |     Yes      |              |\n",
    "| Sending summary of presentation 24 hours prior to Mr. Mort             |      <img width=\"1039\" alt=\"Image\" src=\"https://github.com/user-attachments/assets/573de6b6-d26a-4076-a39f-55d65716572e\" />  |      Yes    |              |\n",
    "| Discussing everything in 3 minutes             |      tbd        |           |              |\n",
    "| Total                      |              |           |              |"
   ]
  }
 ],
 "metadata": {
  "language_info": {
   "name": "python"
  }
 },
 "nbformat": 4,
 "nbformat_minor": 2
}
