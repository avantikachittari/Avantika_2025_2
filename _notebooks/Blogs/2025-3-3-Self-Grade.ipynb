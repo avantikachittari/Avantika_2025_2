{
 "cells": [
  {
   "cell_type": "code",
   "execution_count": null,
   "metadata": {
    "vscode": {
     "languageId": "html"
    }
   },
   "outputs": [],
   "source": [
    "---\n",
    "comments: true\n",
    "layout: post\n",
    "title: Self Grade\n",
    "description: Blog for Adventure Game\n",
    "permalink: /Blogs/SelfGrade.ipynb/\n",
    "type: ccc\n",
    "author: Avantika Chittari\n",
    "---"
   ]
  },
  {
   "cell_type": "markdown",
   "metadata": {},
   "source": [
    "## Final Self-Grade Checklist\n",
    "| **Assignment**             | **Learning process**    |Grade | **Why** |\n",
    "|----------------------------|---------------|-----------|--------------|\n",
    "| Last 24 weeks overview       |              |     4.5      |              |\n",
    "| Latest game feature           |       <img width=\"1440\" alt=\"Image\" src=\"https://github.com/user-attachments/assets/60274a9c-fdb0-44e1-9e2b-cd244fd042c4\" />    <img width=\"1430\" alt=\"Image\" src=\"https://github.com/user-attachments/assets/eb9095e0-5586-4190-a300-7fba8203cdbb\" />   |    1.9       |              |\n",
    "| Organization              |       <img width=\"508\" alt=\"Image\" src=\"https://github.com/user-attachments/assets/840db3bc-1b25-425d-a5a0-be6043db5bd4\" />       |     1      |              |\n",
    "| N@TM feedback              |        <img width=\"905\" alt=\"Image\" src=\"https://github.com/user-attachments/assets/4cfd8f2d-d561-426c-a283-577a07e9b8a0\" />      |     0.8      |              |\n",
    "| Total            |              |           |              |\n"
   ]
  }
 ],
 "metadata": {
  "language_info": {
   "name": "python"
  }
 },
 "nbformat": 4,
 "nbformat_minor": 2
}
