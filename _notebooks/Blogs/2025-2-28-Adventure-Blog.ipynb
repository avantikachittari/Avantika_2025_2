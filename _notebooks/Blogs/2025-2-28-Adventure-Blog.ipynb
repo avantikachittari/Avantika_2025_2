{
 "cells": [
  {
   "cell_type": "code",
   "execution_count": null,
   "metadata": {
    "vscode": {
     "languageId": "html"
    }
   },
   "outputs": [],
   "source": [
    "---\n",
    "comments: true\n",
    "layout: post\n",
    "title: Adventure Game Blog\n",
    "description: Blog for Adventure Game\n",
    "permalink: /Blogs/AdventureBlog.ipynb/\n",
    "type: ccc\n",
    "author: Avantika Chittari\n",
    "---"
   ]
  },
  {
   "cell_type": "markdown",
   "metadata": {},
   "source": [
    "2/10/25\n",
    "I added the enemy NPC to the background and started working on creating an Enemy.js for all enemies such as the spider and the bat.\n",
    "\n",
    "<img width=\"1440\" alt=\"Image\" src=\"https://github.com/user-attachments/assets/b1ab7ad2-cec3-460b-8fff-c6b52336c4c8\" />\n",
    "\n",
    "I copied the Enemygoomba.js file from platformer4x to get an idea of how I should make the file and after copying it I changed the name to enemy.js and I started working on the code to make it work the the adventureGame.\n",
    "\n",
    "<img width=\"1440\" alt=\"Image\" src=\"https://github.com/user-attachments/assets/aa688d2e-42fe-42ad-a8d1-f3bc28859420\" />\n",
    "\n",
    "Plans:\n",
    "- Add the ending level with the butterfly npc\n",
    "- Finish enemy.js\n",
    "- Add boundary restriction for the chillguy aka the player."
   ]
  },
  {
   "cell_type": "markdown",
   "metadata": {},
   "source": [
    "**During the time of when this was blogged the enemy.js was not working correctly as of the latest update enemy.js has been changed completely and is now working perfectly**\n",
    "**Enemy.js & enemy class** \n",
    "2/9/25 to 1/10/25 \n",
    "<img width=\"1440\" alt=\"Image\" src=\"https://github.com/user-attachments/assets/5d4be6d2-964a-4219-9d13-5ced6e22a272\" />\n",
    "I created an enemy.js file and defined an Enemy class. Then, I extended this class to create specific enemy types, such as Bat and Spider.\n",
    "\n",
    "**Spider.js and web shooting**\n",
    "<img width=\"1440\" alt=\"Image\" src=\"https://github.com/user-attachments/assets/4999dbd0-3bb3-423d-a12c-f7e3827239fd\" />\n",
    "I created a Spider.js folder so that I could change the behavior of the Spider enemy so that it attacks you when you approach it. The code written in this shows that the spider can jump 30 pixels high once you go near it so creating the Spider.js file and modifying the behavior of the Spider enemy, makes the game more interactive and engaging. The Spider no longer just sits idle; it becomes a dynamic threat that reacts to the player's actions. I also plan on making the spider shoot webs at the player.\n",
    "\n",
    "<img width=\"577\" alt=\"Image\" src=\"https://github.com/user-attachments/assets/f16d185e-32a0-49c4-8f38-66826b16476a\" />\n",
    "\n",
    "the image shown above is that one that I want to use for the spider when it shoots the webs at the player/you.\n",
    "\n",
    "**Bat.js & hovering jumps and attack**\n",
    "<img width=\"1440\" alt=\"Image\" src=\"https://github.com/user-attachments/assets/f53c8090-1d01-46a3-8773-1537cb7f3509\" />\n",
    "\n",
    "Just like the Spider.js I created a Bat.js folder that also extends the enemy class that is located in the enemy.js folder. however this time instead of having spider-like movements the bat stays in the hovering position as if it were flying and then jumps 50 pixels and goes back to it hovering movement. Like my idea to make the Spider enemy shoot webs, I want to be able to make the Bat enemy disappear if you manage to jump on it somewhat similar to what was in the Platformer4x game. However, I have yet to add that to the code but when I do I will reference the way that it was in Platformer4x\n",
    "\n",
    "**What it looks like in the GameLevelDesert.js***\n",
    "\n",
    "<img width=\"407\" alt=\"Image\" src=\"https://github.com/user-attachments/assets/4d6fbb4f-b231-483d-83b1-4cba7c9cc74c\" />\n",
    "\n",
    "**What the game looks like right now**\n",
    "\n",
    "<img width=\"1440\" alt=\"Image\" src=\"https://github.com/user-attachments/assets/136ec1fc-53dd-4bc4-ad06-f0db8c8eac4a\" />\n",
    "\n",
    "**Plan for the future**\n",
    "- I already created a GameLevelEnd.js and to get to the end you must make it through the Bat and Spider enemy and ask the helpful magical fish for help to find the exit once you get to the exit you will enter the end level\n",
    "\n",
    "<img width=\"1066\" alt=\"Image\" src=\"https://github.com/user-attachments/assets/6afc710b-e89b-4de2-935a-9e4bc651fd6d\" />\n",
    "The image above is what I have so for the GameLevelEnd.js in VS code\n",
    "\n",
    "![Image](https://github.com/user-attachments/assets/2b10248f-c8c0-4f30-be93-b2c44ae1f6d7)\n",
    "Butterfly.png that will congratulate you.\n",
    "\n",
    "<img width=\"778\" alt=\"Image\" src=\"https://github.com/user-attachments/assets/aefeb9f5-188c-4a55-bffe-8543f5a3e6b2\" />\n",
    "End level background\n",
    " \n",
    "- Like how I created an Enemy class and extended it to the Bat and Spider enemies I want to create a allies class and extend it to the helpful fish and create a Fish.js and make the fish be able to help you more like actually giving advice."
   ]
  },
  {
   "cell_type": "markdown",
   "metadata": {},
   "source": [
    "2/13/25\n",
    "While trying to make the enemy class the game started to crash so instead of extending the bat from the enemy class I changed the code so that the bat extends the character class. Now what the bat does is when you start moving the bat follows you.\n",
    "<img width=\"1440\" alt=\"Image\" src=\"https://github.com/user-attachments/assets/51b606da-78f9-4cdc-839e-a6294bf3fd50\" />\n",
    "\n",
    "**Plan for the future**\n",
    "- Make the enemy class actually work and make the spider class extend that or instead of having an enemy class just have the spider extend the character class like what I have right now."
   ]
  },
  {
   "cell_type": "markdown",
   "metadata": {},
   "source": [
    "2/14/25\n",
    "Since I could not make the bat enemy and the spider enemy extend enemy.js  I made them extend character.js. Now I made it so that when the bat touches you it will make you die and then you will have to restart the game. Also when you come close to the spider it jumps away from you but if you manage to catch it you will also die.\n",
    "\n",
    "<img width=\"992\" alt=\"Image\" src=\"https://github.com/user-attachments/assets/bd700b5a-99c9-4f14-91e4-705aa92a4c21\" />\n",
    "\n",
    "Before play dies\n",
    "<img width=\"692\" alt=\"Image\" src=\"https://github.com/user-attachments/assets/0d067128-cd33-4fd5-9c98-54112d2a99f2\" />\n",
    "After dying\n"
   ]
  },
  {
   "cell_type": "markdown",
   "metadata": {},
   "source": [
    "**Ski week update**\n",
    "Over the course of the break I have changed many of the files in the game, I was finally able to make an exit in the first level which leads you to the 2nd level. However, are no enemies in the 2nd level it is more of a \"safe haven\" as a reward/congratulations for making it out of the cave."
   ]
  },
  {
   "cell_type": "markdown",
   "metadata": {},
   "source": [
    "**Enemy.js**\n",
    "After much trial and error I was finally able to create the enemy.js successfully. The enemy class extends the character class and it has 4 main properties:\n",
    "- Collision\n",
    "- Explosion \n",
    "- Animation rate\n",
    "- Destroy player\n",
    "The Bat.js and Spider.js both extend these properties.\n",
    " **Bat.js**\n",
    "- Check proximity feature which allows it to constantly follow the player no matter where the player moves in the game\n",
    "- Jump feature from the enemy class has been left empty because I want the bat to fly/hover not jump around\n",
    "- Collision between the bat and the play results in the animation of which the player explodes and that results in the end of the game\n",
    " **Spider.js**\n",
    "- Jump feature is used when you come too close to the spider it jump away at random using X & Y\n",
    "- Check proximity if left empty for the spider because I only want one enemy to follow you around\n",
    "(As of now there are no enemies in the 2nd level)"
   ]
  },
  {
   "cell_type": "markdown",
   "metadata": {},
   "source": [
    "**NPC**\n",
    "The NPCs are in every level and some are dangerous such as Spider & Bat. The NPC class extends the character class.\n",
    "- The NPCs in the first level are the Wizard which is also used as an exit and the Helpful Fish.\n",
    "- NPCs in the second level are the Wizard & the Hat\n",
    " **Wizard(exit)**\n",
    "- In the first and second level\n",
    "- You can only exit the levels once you go to the wizard\n",
    "- The wizard is in every level\n",
    "\n",
    "<img width=\"642\" alt=\"Image\" src=\"https://github.com/user-attachments/assets/17dd4f59-dc95-458e-8f8b-dfde13f28053\" />\n",
    "\n",
    "**Helpful Fish**\n",
    "- Once you go up to the fish it tells you what the bat can do and how to exit the level\n",
    "- Also encourages you to answer the questions\n",
    "\n",
    "<img width=\"690\" alt=\"Image\" src=\"https://github.com/user-attachments/assets/0e834b93-7ac6-47ff-8dd4-42e24fb47186\" />\n"
   ]
  },
  {
   "cell_type": "markdown",
   "metadata": {},
   "source": [
    "**Question/Quiz**\n",
    "Based on the original code that was there for the question I created a quiz. To activate it you must press either the 'e' or 'u' key. You are prompted to answer the questions by the Helpful Fish.\n",
    "\n",
    "<img width=\"1434\" alt=\"Image\" src=\"https://github.com/user-attachments/assets/4ac06ec8-a223-4a60-b38a-4991f5eb85f1\" />\n",
    "\n",
    "After pressing either the 'e' or 'u' key this is what the questions looks like.\n",
    "\n",
    "<img width=\"1020\" alt=\"Image\" src=\"https://github.com/user-attachments/assets/960a5b4d-efda-47ec-bc75-3187fc3c5458\" />\n",
    "\n",
    "<img width=\"1007\" alt=\"Image\" src=\"https://github.com/user-attachments/assets/c5c246e5-1c92-450f-9171-8d62577e595b\" />\n",
    "After answering you press submit and continue the game."
   ]
  },
  {
   "cell_type": "markdown",
   "metadata": {},
   "source": [
    "**Things that will be done before N@TM**\n",
    "- Addition of 3rd level\n",
    "- More NPC in 2nd level\n",
    "- Sound effects for the enemies & player"
   ]
  },
  {
   "cell_type": "markdown",
   "metadata": {},
   "source": [
    "**3rd level plan**\n",
    "- Theme is mountain\n",
    "- The enemies will be a bear and a bird ( same properties as the spider and bat) both will also extend the enemy class that was used for the other enemies\n",
    "- The wizard will also be in this game and once you get to the wizard the game will be over\n",
    "- I plan to make the 3rd level the 2nd one that you enter and the current 2nd level the last one since it is supposed to be the end level that is a reward for making it through the game"
   ]
  },
  {
   "cell_type": "markdown",
   "metadata": {},
   "source": [
    "**Plan if I had more time**\n",
    "My original plan was to have 5 levels each getting progressively harder, however since so much of my time was put into creating the enemy class successfully and making sure that the wizard is the exit for the there was not enough time to implement more than two or maybe three levels. I also wanted the game to have more properties such as the keeping track of the score and such."
   ]
  }
 ],
 "metadata": {
  "language_info": {
   "name": "python"
  }
 },
 "nbformat": 4,
 "nbformat_minor": 2
}
