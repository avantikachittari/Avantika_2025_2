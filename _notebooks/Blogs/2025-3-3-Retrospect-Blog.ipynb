{
 "cells": [
  {
   "cell_type": "code",
   "execution_count": null,
   "metadata": {
    "vscode": {
     "languageId": "html"
    }
   },
   "outputs": [],
   "source": [
    "---\n",
    "comments: true\n",
    "layout: post\n",
    "title: Retprospect\n",
    "description: Blog for Adventure Game\n",
    "categories: [Adventure Game Blogs]\n",
    "permalink: /Blogs/Retrospect.ipynb/\n",
    "type: ccc\n",
    "author: Avantika Chittari\n",
    "---"
   ]
  },
  {
   "cell_type": "markdown",
   "metadata": {},
   "source": [
    "<style>\n",
    "    body {\n",
    "        background-color: #f3e5f5; /* Light purple background */\n",
    "        color: #1e88e5; /* Deep blue text */\n",
    "        font-family: 'Courier New', monospace;\n",
    "        line-height: 1.6;\n",
    "    }\n",
    "    h1, h2, h3 {\n",
    "        color: #8e24aa; /* Dark purple headers */\n",
    "    }\n",
    "    code {\n",
    "        background-color: #c5cae9; /* Soft lavender code background */\n",
    "        padding: 8px;\n",
    "        border-radius: 5px;\n",
    "        display: block;\n",
    "    }\n",
    "</style>\n",
    "\n",
    "# **Retrospect**\n",
    "\n",
    "# Game that stood out\n",
    "While I was at night at the museam the game that stood out to me the most was Anishka and Elise's game. The reason is because I feel like the entire game is cohesive something that I happened to miss throught coding my game. After looking at their game I became inspired to also make my obstical NPC enemies move in place on their own. Since the enemies in my game don't move unless you do for example the bat enemy follows where you go and the spider only moves apon interaction.\n",
    "\n",
    "<img width=\"1438\" alt=\"Image\" src=\"https://github.com/user-attachments/assets/7d32e8c4-be71-4195-85ce-c4e5578f6188\" />\n",
    "\n",
    "# CSSE Retrospective Blog\n",
    "\n",
    "As this CSSE class comes to an end, I wanted to take a moment to reflect on my experience, the challenges I faced, and the progress I’ve made. From diving into JavaScript’s nested conditionals to working on an adventure game, this class has been a journey filled with learning, debugging, and creativity.\n",
    "\n",
    "## Key Highlights\n",
    "\n",
    "### 1. **Mastering Nested Conditionals in JavaScript for Lessons**\n",
    "One of the first major concepts I tackled in this class was nested conditionals. Initially, the logic seemed tricky, but after practice and application in various coding exercises, I became more comfortable with structuring complex decision-making in my programs. This skill became incredibly useful in my game development project.\n",
    "\n",
    "### 2. **The Adventure Game Project**\n",
    "A major highlight of this class was working on my adventure game. I implemented key features such as:\n",
    "- Adding an enemy NPC (like the spider and bat) that can harm you\n",
    "- Adding an Exit.js that allows you to exit by approching an NPC\n",
    "- Adding a question system\n",
    "- Creating and refining the enemy.js inspired enemygoomba.js and adding different properties to it\n",
    "- Working on game mechanics, including adding the space themed game in-game from the portfolio_2025 and making all the files work with the ones I had before\n",
    "\n",
    "\n",
    "### 3. **Platformer4x**\n",
    "Although my contribution to the platformer4x game was very minimal I did learn a lot from it. After examining how all the files work together in the Platformer game to create I came up with ideas on how to organize the game levels in my Adevnture Game. I also studied the classes in the game and it inspired me to create an enemy.js in my personal game.\n",
    "\n",
    "## Challenges and Growth\n",
    "\n",
    "Throughout this class, I faced several challenges, such as crashing the game many times and my code not syncing up. Although at first my growth was extremely slow I eventually improved and was able to create and Adventure Game that was quit complex for me to create.\n",
    "\n",
    "## What’s Next?\n",
    "Looking ahead, I plan to:\n",
    "- Use all the skills that I learned in this class throught my education\n",
    "- Continue refining my skills so that I can improve my coding skills\n",
    "- Explore other computer science based classes that build off of what I learned in this class\n",
    "\n",
    "\n"
   ]
  }
 ],
 "metadata": {
  "language_info": {
   "name": "python"
  }
 },
 "nbformat": 4,
 "nbformat_minor": 2
}
