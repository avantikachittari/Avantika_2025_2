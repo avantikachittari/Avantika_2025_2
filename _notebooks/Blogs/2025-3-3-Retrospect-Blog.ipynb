{
 "cells": [
  {
   "cell_type": "code",
   "execution_count": null,
   "metadata": {
    "vscode": {
     "languageId": "html"
    }
   },
   "outputs": [],
   "source": [
    "---\n",
    "comments: true\n",
    "layout: post\n",
    "title: Retprospect\n",
    "description: Blog for Adventure Game\n",
    "permalink: /Blogs/Retrospect.ipynb/\n",
    "type: ccc\n",
    "author: Avantika Chittari\n",
    "---"
   ]
  },
  {
   "cell_type": "markdown",
   "metadata": {},
   "source": [
    "<style>\n",
    "    body {\n",
    "        background-color: #f3e5f5; /* Light purple background */\n",
    "        color: #1e88e5; /* Deep blue text */\n",
    "        font-family: 'Courier New', monospace;\n",
    "        line-height: 1.6;\n",
    "    }\n",
    "    h1, h2, h3 {\n",
    "        color: #8e24aa; /* Dark purple headers */\n",
    "    }\n",
    "    code {\n",
    "        background-color: #c5cae9; /* Soft lavender code background */\n",
    "        padding: 8px;\n",
    "        border-radius: 5px;\n",
    "        display: block;\n",
    "    }\n",
    "</style>\n",
    "\n",
    "# **Retrospect**\n"
   ]
  }
 ],
 "metadata": {
  "language_info": {
   "name": "python"
  }
 },
 "nbformat": 4,
 "nbformat_minor": 2
}
