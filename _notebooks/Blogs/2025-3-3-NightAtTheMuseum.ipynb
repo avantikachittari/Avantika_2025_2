{
 "cells": [
  {
   "cell_type": "code",
   "execution_count": null,
   "metadata": {
    "vscode": {
     "languageId": "html"
    }
   },
   "outputs": [],
   "source": [
    "---\n",
    "comments: true\n",
    "layout: post\n",
    "title: N@TM\n",
    "description: Contains feedback from night at the museum\n",
    "categories: [Adventure Game Blogs]\n",
    "permalink: /Blogs/NightAtTheMuseum.ipynb/\n",
    "type: ccc\n",
    "author: Avantika Chittari\n",
    "---"
   ]
  },
  {
   "cell_type": "markdown",
   "metadata": {},
   "source": [
    "<style>\n",
    "    body {\n",
    "        background-color: #f3e5f5; /* Light purple background */\n",
    "        color: #1e88e5; /* Deep blue text */\n",
    "        font-family: 'Courier New', monospace;\n",
    "        line-height: 1.6;\n",
    "    }\n",
    "    h1, h2, h3 {\n",
    "        color: #8e24aa; /* Dark purple headers */\n",
    "    }\n",
    "    code {\n",
    "        background-color: #c5cae9; /* Soft lavender code background */\n",
    "        padding: 8px;\n",
    "        border-radius: 5px;\n",
    "        display: block;\n",
    "    }\n",
    "</style>\n",
    "\n",
    "# **Night at the Museum**\n",
    "\n",
    "Feedback.\n",
    "\n",
    "<img width=\"927\" alt=\"Image\" src=\"https://github.com/user-attachments/assets/1d1bf1d7-bcc7-4eef-95a8-dc18ae0118c4\" />\n",
    "<img width=\"926\" alt=\"Image\" src=\"https://github.com/user-attachments/assets/5cd4cf36-78d3-4577-97f5-922ebf40fda1\" />\n",
    "\n",
    "\n",
    "Based on the feedback that I got from N@TM the most common thing that was told about my game was that the levels didn't really go together and didn't have much of a story telling aspect from them. From my perspective, the feedback on my game has been really helpful. Players enjoy the graphics, free-roaming feature, and overall design, but they’ve pointed out areas for improvement. I see that clearer instructions and better integration of questions into the gameplay are needed. Adding features like a health bar, small quests, and more level-based challenges would make the game more engaging. Pausing the game when answering questions is a great idea, and I’ll also work on refining the animations. Overall, I appreciate the suggestions and will use them to improve my game."
   ]
  }
 ],
 "metadata": {
  "language_info": {
   "name": "python"
  }
 },
 "nbformat": 4,
 "nbformat_minor": 2
}
