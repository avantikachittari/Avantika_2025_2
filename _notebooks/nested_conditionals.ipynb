{
 "cells": [
  {
   "cell_type": "raw",
   "metadata": {
    "vscode": {
     "languageId": "raw"
    }
   },
   "source": [
    "---\n",
    "comments: true\n",
    "layout: post\n",
    "title: CSP Period 4 Unit 3.7.2 Nested Conditionals Javascript Lesson\n",
    "description: Nested conditionals in JavaScript allow for more complex decision-making by placing one conditional statement inside another. This structure enables a program to check additional conditions only if the previous condition is true, creating a layered decision process. In this lesson, students will learn how to implement nested if, else if, and else statements to create more specific control flows in their programs. Through examples and exercises, they will gain a deeper understanding of how to manage multiple conditions effectively, enhancing the logic of their code.\n",
    "permalink: /csp/big-idea/p4/3-7-2\n",
    "type: ccc\n",
    "author: Avantika Chittari\n",
    "menu: nav/csp_units/csp_unit3_p4_fundamentals.html\n",
    "---"
   ]
  },
  {
   "cell_type": "markdown",
   "metadata": {},
   "source": [
    "<h2><span style=\"font-family: Ariel; color:#94c4ff\">Homework - Integers, Booleans, AND Random</span></h2>\n",
    "\n",
    "Premise: Write a code that determines what school you attened either Kindergarten, Elementry , Middle, or High based on what your grade is.\n",
    "- Create a new javascript cell\n",
    "- Math.random() generates a random decimal between 0 and 1, and multiplying by 12 gives a real number between 0 and 12. \n",
    "\n",
    "## Write 3 if statements\n",
    " - If grade is less than 1 then you are in Kindergarten\n",
    " - If grade is less than 6 then you are in Elementry School\n",
    " - If grade is less than 9 then you are in Middle School\n",
    " - If grade is less than 12 then you are in High School\n",
    " \n",
    " ## Write statement if you are graduating each grade\n",
    " - If the grade is 5 then you are graduating Elementary school this year\n",
    " - If the grade is 8 Then you are graduation Middle school this year\n",
    " - If the grade is 12 then you are graduating school this year\n"
   ]
  },
  {
   "cell_type": "code",
   "execution_count": 59,
   "metadata": {
    "vscode": {
     "languageId": "javascript"
    }
   },
   "outputs": [
    {
     "data": {
      "application/javascript": "//console.log(Math.random() < 0.5)\nlet grade = Math.round(Math.random() * 12)\n\nconsole.log(grade)\nconsole.log(\"You are in \" + grade + \" grade.\")\n\nif (grade >= 1) {\n    if (grade < 6) {\n        console.log(\"So you are in a elementry school!\")\n        if (grade == 5) {\n            console.log(\"You will graduate this year from elementry school\")\n        }\n\n    }\n    else if (grade < 9) {\n        console.log(\"So you are in a middle school!\")\n        if (grade == 8) {\n            console.log(\"You will graduate this year from middle school\")\n        }\n    }\n    else {\n        console.log(\"So you are in a high school!\")\n        if (grade == 12) {\n            console.log(\"You will graduate this year from high school\")\n        }\n    }\n}\nelse {\n    console.log(\"So you are in kindergarden!\")\n}\n\n",
      "text/plain": [
       "<IPython.core.display.Javascript object>"
      ]
     },
     "metadata": {},
     "output_type": "display_data"
    }
   ],
   "source": [
    "%%js\n",
    "\n",
    "//Generate random student grade  \n",
    "let grade = Math.round(Math.random() * 12)\n",
    "\n",
    "console.log(grade)\n",
    "console.log(\"You are in \" + grade + \" grade.\")\n",
    "\n",
    "if (grade >= 1) {\n",
    "    if (grade < 6) {\n",
    "        console.log(\"So you are in a elementry school!\")\n",
    "        if (grade == 5) {\n",
    "            console.log(\"You will graduate this year from elementry school\")\n",
    "        }\n",
    "\n",
    "    }\n",
    "    else if (grade < 9) {\n",
    "        console.log(\"So you are in a middle school!\")\n",
    "        if (grade == 8) {\n",
    "            console.log(\"You will graduate this year from middle school\")\n",
    "        }\n",
    "    }\n",
    "    else {\n",
    "        console.log(\"So you are in a high school!\")\n",
    "        if (grade == 12) {\n",
    "            console.log(\"You will graduate this year from high school\")\n",
    "        }\n",
    "    }\n",
    "}\n",
    "else {\n",
    "    console.log(\"So you are in kindergarden!\")\n",
    "}\n",
    "\n"
   ]
  }
 ],
 "metadata": {
  "kernelspec": {
   "display_name": "venv",
   "language": "python",
   "name": "python3"
  },
  "language_info": {
   "codemirror_mode": {
    "name": "ipython",
    "version": 3
   },
   "file_extension": ".py",
   "mimetype": "text/x-python",
   "name": "python",
   "nbconvert_exporter": "python",
   "pygments_lexer": "ipython3",
   "version": "3.9.6"
  }
 },
 "nbformat": 4,
 "nbformat_minor": 2
}
