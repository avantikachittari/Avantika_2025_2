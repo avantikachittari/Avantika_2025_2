{
 "cells": [
  {
   "cell_type": "code",
   "execution_count": null,
   "metadata": {
    "vscode": {
     "languageId": "html"
    }
   },
   "outputs": [],
   "source": [
    "---\n",
    "comments: true\n",
    "layout: post\n",
    "title: Control Structures\n",
    "description: This blog dicusses the control structures in Javascript.\n",
    "permalink: /JavaScriptBasics/2025-2-28-Data-Types.ipynb/\n",
    "type: ccc\n",
    "author: Avantika Chittari\n",
    "---"
   ]
  },
  {
   "cell_type": "markdown",
   "metadata": {
    "vscode": {
     "languageId": "html"
    }
   },
   "source": [
    "<style>\n",
    "    body {\n",
    "        background-color: #f3e5f5; /* Light purple background */\n",
    "        color: #1e88e5; /* Deep blue text */\n",
    "        font-family: 'Courier New', monospace;\n",
    "        line-height: 1.6;\n",
    "    }\n",
    "    h1, h2, h3 {\n",
    "        color: #8e24aa; /* Dark purple headers */\n",
    "    }\n",
    "    code {\n",
    "        background-color: #c5cae9; /* Soft lavender code background */\n",
    "        padding: 8px;\n",
    "        border-radius: 5px;\n",
    "        display: block;\n",
    "    }\n",
    "</style>\n",
    "\n",
    "# **Data Types in JavaScript**\n",
    "\n",
    "## **Numbers**\n",
    "Represents numeric values, including integers and floating points.\n",
    "<pre><code>\n",
    "let num = 42;\n",
    "let pi = 3.14;\n",
    "</code></pre>"
   ]
  },
  {
   "cell_type": "markdown",
   "metadata": {
    "vscode": {
     "languageId": "html"
    }
   },
   "source": [
    "<style>\n",
    "    body {\n",
    "        background-color: #f3e5f5; /* Light purple background */\n",
    "        color: #1e88e5; /* Deep blue text */\n",
    "        font-family: 'Courier New', monospace;\n",
    "        line-height: 1.6;\n",
    "    }\n",
    "    h1, h2, h3 {\n",
    "        color: #8e24aa; /* Dark purple headers */\n",
    "    }\n",
    "    code {\n",
    "        background-color: #c5cae9; /* Soft lavender code background */\n",
    "        padding: 8px;\n",
    "        border-radius: 5px;\n",
    "        display: block;\n",
    "    }\n",
    "</style>\n",
    "\n",
    "## **Strings**\n",
    "A sequence of characters enclosed in quotes.\n",
    "<pre><code>\n",
    "let greeting = \"Hello, world!\";\n",
    "</code></pre>"
   ]
  },
  {
   "cell_type": "markdown",
   "metadata": {},
   "source": [
    "<style>\n",
    "    body {\n",
    "        background-color: #f3e5f5; /* Light purple background */\n",
    "        color: #1e88e5; /* Deep blue text */\n",
    "        font-family: 'Courier New', monospace;\n",
    "        line-height: 1.6;\n",
    "    }\n",
    "    h1, h2, h3 {\n",
    "        color: #8e24aa; /* Dark purple headers */\n",
    "    }\n",
    "    code {\n",
    "        background-color: #c5cae9; /* Soft lavender code background */\n",
    "        padding: 8px;\n",
    "        border-radius: 5px;\n",
    "        display: block;\n",
    "    }\n",
    "</style>\n",
    "\n",
    "## **Booleans**\n",
    "Represents true or false values.\n",
    "<pre><code>\n",
    "let isStudent = true;\n",
    "</code></pre>"
   ]
  },
  {
   "cell_type": "markdown",
   "metadata": {},
   "source": [
    "<style>\n",
    "    body {\n",
    "        background-color: #f3e5f5; /* Light purple background */\n",
    "        color: #1e88e5; /* Deep blue text */\n",
    "        font-family: 'Courier New', monospace;\n",
    "        line-height: 1.6;\n",
    "    }\n",
    "    h1, h2, h3 {\n",
    "        color: #8e24aa; /* Dark purple headers */\n",
    "    }\n",
    "    code {\n",
    "        background-color: #c5cae9; /* Soft lavender code background */\n",
    "        padding: 8px;\n",
    "        border-radius: 5px;\n",
    "        display: block;\n",
    "    }\n",
    "</style>\n",
    "\n",
    "## **Arrays**\n",
    "Ordered lists that store multiple values.\n",
    "<pre><code>\n",
    "let colors = [\"red\", \"blue\", \"green\"];\n",
    "</code></pre>"
   ]
  },
  {
   "cell_type": "markdown",
   "metadata": {},
   "source": [
    "<style>\n",
    "    body {\n",
    "        background-color: #f3e5f5; /* Light purple background */\n",
    "        color: #1e88e5; /* Deep blue text */\n",
    "        font-family: 'Courier New', monospace;\n",
    "        line-height: 1.6;\n",
    "    }\n",
    "    h1, h2, h3 {\n",
    "        color: #8e24aa; /* Dark purple headers */\n",
    "    }\n",
    "    code {\n",
    "        background-color: #c5cae9; /* Soft lavender code background */\n",
    "        padding: 8px;\n",
    "        border-radius: 5px;\n",
    "        display: block;\n",
    "    }\n",
    "</style>\n",
    "\n",
    "## **JSON Object**\n",
    "Data structures with key-value pairs, often used for data exchange.\n",
    "<pre><code>\n",
    "let person = { \"name\": \"Avantika\", \"age\": 14, \"isStudent\": true };\n",
    "</code></pre>"
   ]
  }
 ],
 "metadata": {
  "language_info": {
   "name": "python"
  }
 },
 "nbformat": 4,
 "nbformat_minor": 2
}
